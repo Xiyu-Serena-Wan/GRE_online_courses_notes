{
 "cells": [
  {
   "cell_type": "code",
   "execution_count": 20,
   "id": "aboriginal-refrigerator",
   "metadata": {},
   "outputs": [],
   "source": [
    "### Do not change the Location or Campus classes. ###\n",
    "### Location class is the same as in lecture.     ###\n",
    "class Location(object):\n",
    "    def __init__(self, x, y):\n",
    "        self.x = x\n",
    "        self.y = y\n",
    "    def move(self, deltaX, deltaY):\n",
    "        return Location(self.x + deltaX, self.y + deltaY)\n",
    "    def getX(self):\n",
    "        return self.x\n",
    "    def getY(self):\n",
    "        return self.y\n",
    "    def dist_from(self, other):\n",
    "        xDist = self.x - other.x\n",
    "        yDist = self.y - other.y\n",
    "        return (xDist**2 + yDist**2)**0.5\n",
    "    def __eq__(self, other):\n",
    "        return (self.x == other.x and self.y == other.y)\n",
    "    def __str__(self):\n",
    "        return '<' + str(self.x) + ',' + str(self.y) + '>'\n",
    "        "
   ]
  },
  {
   "cell_type": "code",
   "execution_count": 21,
   "id": "laughing-analyst",
   "metadata": {},
   "outputs": [],
   "source": [
    "class Campus(object):\n",
    "    def __init__(self, center_loc):\n",
    "        self.center_loc = center_loc\n",
    "    def __str__(self):\n",
    "        return str(self.center_loc)"
   ]
  },
  {
   "cell_type": "code",
   "execution_count": 40,
   "id": "falling-johns",
   "metadata": {},
   "outputs": [],
   "source": [
    "class MITCampus(Campus):\n",
    "    \"\"\" A MITCampus is a Campus that contains tents \"\"\"\n",
    "    def __init__(self, center_loc, tent_loc = Location(0,0)):\n",
    "        \"\"\" Assumes center_loc and tent_loc are Location objects \n",
    "        Initializes a new Campus centered at location center_loc \n",
    "        with a tent at location tent_loc \"\"\"\n",
    "        Campus.__init__(self, center_loc)\n",
    "        #self.tent_loc = tent_loc\n",
    "        self.tent_list = [tent_loc]\n",
    "      \n",
    "    def add_tent(self, new_tent_loc):\n",
    "        \"\"\" Assumes new_tent_loc is a Location\n",
    "        Adds new_tent_loc to the campus only if the tent is at least 0.5 distance \n",
    "        away from all other tents already there. Campus is unchanged otherwise.\n",
    "        All other tents means a list\n",
    "        Returns True if it could add the tent, False otherwise. \"\"\"\n",
    "        \n",
    "        '''if new_tent_loc.dist_from(self.tent_loc) >= 0.5:\n",
    "            self.new_tent_loc = new_tent_loc\n",
    "            return True\n",
    "        else:\n",
    "            return False\n",
    "        '''\n",
    "        for t in self.tent_list:\n",
    "            if t.dist_from(new_tent_loc) < 0.5:\n",
    "                return False\n",
    "        self.tent_list.append(new_tent_loc)\n",
    "        return True\n",
    "      \n",
    "    def remove_tent(self, tent_loc):\n",
    "        \"\"\" Assumes tent_loc is a Location\n",
    "        Removes tent_loc from the campus. \n",
    "        Raises a ValueError if there is not a tent at tent_loc.\n",
    "        Does not return anything \"\"\"\n",
    "        if tent_loc in self.tent_list:\n",
    "            self.tent_list.remove(tent_loc)\n",
    "        else:\n",
    "            raise ValueError  \n",
    "                \n",
    "    def get_tents(self):\n",
    "        \"\"\" Returns a list of all tents on the campus. The list should contain \n",
    "        the string representation of the Location of a tent. The list should \n",
    "        be sorted by the x coordinate of the location. \"\"\"\n",
    "        self.list_tent = []\n",
    "        for t in self.tent_list:\n",
    "            self.list_tent.append(t.__str__())\n",
    "        #return sorted(self.tent_list_str)\n",
    "        return self.list_tent\n"
   ]
  },
  {
   "cell_type": "code",
   "execution_count": 41,
   "id": "portable-experience",
   "metadata": {},
   "outputs": [
    {
     "name": "stdout",
     "output_type": "stream",
     "text": [
      "['<0,0>']\n"
     ]
    }
   ],
   "source": [
    "c = MITCampus(Location(1,2), Location(0,0))\n",
    "print(c.get_tents())"
   ]
  },
  {
   "cell_type": "code",
   "execution_count": 42,
   "id": "unable-arbitration",
   "metadata": {},
   "outputs": [
    {
     "data": {
      "text/plain": [
       "'<0,0>'"
      ]
     },
     "execution_count": 42,
     "metadata": {},
     "output_type": "execute_result"
    }
   ],
   "source": [
    "Location(0,0).__str__()"
   ]
  },
  {
   "cell_type": "code",
   "execution_count": null,
   "id": "early-catholic",
   "metadata": {},
   "outputs": [],
   "source": []
  }
 ],
 "metadata": {
  "kernelspec": {
   "display_name": "Python 3",
   "language": "python",
   "name": "python3"
  },
  "language_info": {
   "codemirror_mode": {
    "name": "ipython",
    "version": 3
   },
   "file_extension": ".py",
   "mimetype": "text/x-python",
   "name": "python",
   "nbconvert_exporter": "python",
   "pygments_lexer": "ipython3",
   "version": "3.8.8"
  }
 },
 "nbformat": 4,
 "nbformat_minor": 5
}
