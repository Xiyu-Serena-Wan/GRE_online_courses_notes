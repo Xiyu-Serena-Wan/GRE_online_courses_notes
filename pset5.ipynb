{
 "cells": [
  {
   "cell_type": "code",
   "execution_count": 1,
   "id": "criminal-broadway",
   "metadata": {},
   "outputs": [],
   "source": [
    "import string\n",
    "\n",
    "### DO NOT MODIFY THIS FUNCTION ###\n",
    "def load_words(file_name):\n",
    "    '''\n",
    "    file_name (string): the name of the file containing \n",
    "    the list of words to load    \n",
    "    \n",
    "    Returns: a list of valid words. Words are strings of lowercase letters.\n",
    "    \n",
    "    Depending on the size of the word list, this function may\n",
    "    take a while to finish.\n",
    "    '''\n",
    "    print('Loading word list from file...')\n",
    "    # inFile: file\n",
    "    in_file = open(file_name, 'r')\n",
    "    # line: string\n",
    "    line = in_file.readline()\n",
    "    # word_list: list of strings\n",
    "    word_list = line.split()\n",
    "    print('  ', len(word_list), 'words loaded.')\n",
    "    in_file.close()\n",
    "    return word_list\n",
    "\n",
    "### DO NOT MODIFY THIS FUNCTION ###\n",
    "def is_word(word_list, word):\n",
    "    '''\n",
    "    Determines if word is a valid word, ignoring\n",
    "    capitalization and punctuation\n",
    "\n",
    "    word_list (list): list of words in the dictionary.\n",
    "    word (string): a possible word.\n",
    "    \n",
    "    Returns: True if word is in word_list, False otherwise\n",
    "\n",
    "    Example:\n",
    "    >>> is_word(word_list, 'bat') returns\n",
    "    True\n",
    "    >>> is_word(word_list, 'asdf') returns\n",
    "    False\n",
    "    '''\n",
    "    word = word.lower()\n",
    "    word = word.strip(\" !@#$%^&*()-_+={}[]|\\:;'<>?,./\\\"\")\n",
    "    return word in word_list\n",
    "\n",
    "### DO NOT MODIFY THIS FUNCTION ###\n",
    "def get_story_string():\n",
    "    \"\"\"\n",
    "    Returns: a joke in encrypted text.\n",
    "    \"\"\"\n",
    "    f = open(\"story.txt\", \"r\")\n",
    "    story = str(f.read())\n",
    "    f.close()\n",
    "    return story"
   ]
  },
  {
   "cell_type": "code",
   "execution_count": 2,
   "id": "convertible-testing",
   "metadata": {},
   "outputs": [],
   "source": [
    "WORDLIST_FILENAME = 'words.txt'"
   ]
  },
  {
   "cell_type": "code",
   "execution_count": 3,
   "id": "confidential-defendant",
   "metadata": {},
   "outputs": [],
   "source": [
    "class Message(object):\n",
    "    ### DO NOT MODIFY THIS METHOD ###\n",
    "    def __init__(self, text):\n",
    "        '''\n",
    "        Initializes a Message object\n",
    "                \n",
    "        text (string): the message's text\n",
    "\n",
    "        a Message object has two attributes:\n",
    "            self.message_text (string, determined by input text)\n",
    "            self.valid_words (list, determined using helper function load_words)\n",
    "        '''\n",
    "        self.message_text = text\n",
    "        self.valid_words = load_words(WORDLIST_FILENAME)\n",
    "\n",
    "    ### DO NOT MODIFY THIS METHOD ###\n",
    "    def get_message_text(self):\n",
    "        '''\n",
    "        Used to safely access self.message_text outside of the class\n",
    "        \n",
    "        Returns: self.message_text\n",
    "        '''\n",
    "        return self.message_text\n",
    "\n",
    "    ### DO NOT MODIFY THIS METHOD ###\n",
    "    def get_valid_words(self):\n",
    "        '''\n",
    "        Used to safely access a copy of self.valid_words outside of the class\n",
    "        \n",
    "        Returns: a COPY of self.valid_words\n",
    "        '''\n",
    "        return self.valid_words[:]\n",
    "        \n",
    "    def build_shift_dict(self, shift):\n",
    "        '''\n",
    "        Creates a dictionary that can be used to apply a cipher to a letter.\n",
    "        The dictionary maps every uppercase and lowercase letter to a\n",
    "        character shifted down the alphabet by the input shift. The dictionary\n",
    "        should have 52 keys of all the uppercase letters and all the lowercase\n",
    "        letters only.        \n",
    "        \n",
    "        shift (integer): the amount by which to shift every letter of the \n",
    "        alphabet. 0 <= shift < 26\n",
    "\n",
    "        Returns: a dictionary mapping a letter (string) to \n",
    "                 another letter (string). \n",
    "        '''\n",
    "        shift_dict = {}\n",
    "\n",
    "        for item in string.ascii_lowercase:\n",
    "            if ord(item)+shift > 122:\n",
    "                shift_dict[item] = chr(ord(item)+shift-26)\n",
    "            else:\n",
    "                shift_dict[item] = chr(ord(item)+shift)\n",
    "        \n",
    "        for item in string.ascii_uppercase:\n",
    "            if ord(item)+shift > 90:\n",
    "                shift_dict[item] = chr(ord(item)+shift-26)\n",
    "            else:\n",
    "                shift_dict[item] = chr(ord(item)+shift)\n",
    "        return shift_dict\n",
    "\n",
    "    def apply_shift(self, shift):\n",
    "        '''\n",
    "        Applies the Caesar Cipher to self.message_text with the input shift.\n",
    "        Creates a new string that is self.message_text shifted down the\n",
    "        alphabet by some number of characters determined by the input shift        \n",
    "        \n",
    "        shift (integer): the shift with which to encrypt the message.\n",
    "        0 <= shift < 26\n",
    "\n",
    "        Returns: the message text (string) in which every character is shifted\n",
    "             down the alphabet by the input shift\n",
    "        '''\n",
    "\n",
    "    \n",
    "        letter_changed = ''\n",
    "        for letter in self.message_text:\n",
    "        #for letter in 'hello I am Windy':\n",
    "            #letter_changed += self.build_shift_dict(shift)[letter]\n",
    "            if letter in string.ascii_lowercase or letter in string.ascii_uppercase:\n",
    "                letter_changed += self.build_shift_dict(shift)[letter]\n",
    "            elif letter in ' ' or letter in string.digits or letter in string.punctuation:\n",
    "                letter_changed += letter\n",
    "\n",
    "        return(letter_changed)"
   ]
  },
  {
   "cell_type": "code",
   "execution_count": 4,
   "id": "decent-quick",
   "metadata": {},
   "outputs": [],
   "source": [
    "class PlaintextMessage(Message):\n",
    "    def __init__(self, text, shift):\n",
    "        '''\n",
    "        Initializes a PlaintextMessage object        \n",
    "        \n",
    "        text (string): the message's text\n",
    "        shift (integer): the shift associated with this message\n",
    "\n",
    "        self.message_text = text\n",
    "        self.valid_words = load_words(WORDLIST_FILENAME)\n",
    "        \n",
    "        A PlaintextMessage object inherits from Message and has five attributes:\n",
    "            self.message_text (string, determined by input text)\n",
    "            self.valid_words (list, determined using helper function load_words)\n",
    "            self.shift (integer, determined by input shift)\n",
    "            self.encrypting_dict (dictionary, built using shift)\n",
    "            self.message_text_encrypted (string, created using shift)\n",
    "\n",
    "        Hint: consider using the parent class constructor so less \n",
    "        code is repeated\n",
    "        '''\n",
    "        super().__init__(text)\n",
    "        self.shift = shift\n",
    "        self.encrypting_dict = self.build_shift_dict(shift)\n",
    "        \n",
    "        self.message_text_encrypted = super().apply_shift(shift)\n",
    "\n",
    "    def get_shift(self):\n",
    "        '''\n",
    "        Used to safely access self.shift outside of the class\n",
    "        \n",
    "        Returns: self.shift\n",
    "        '''\n",
    "        return self.shift\n",
    "\n",
    "    def get_encrypting_dict(self):\n",
    "        '''\n",
    "        Used to safely access a copy self.encrypting_dict outside of the class\n",
    "        \n",
    "        Returns: a COPY of self.encrypting_dict\n",
    "        '''\n",
    "        return self.encrypting_dict.copy()\n",
    "\n",
    "    def get_message_text_encrypted(self):\n",
    "        '''\n",
    "        Used to safely access self.message_text_encrypted outside of the class\n",
    "        \n",
    "        Returns: self.message_text_encrypted\n",
    "        '''\n",
    "        return self.message_text_encrypted\n",
    "\n",
    "    def change_shift(self, shift):\n",
    "        '''\n",
    "        Changes self.shift of the PlaintextMessage and updates other \n",
    "        attributes determined by shift (ie. self.encrypting_dict and \n",
    "        message_text_encrypted).\n",
    "        \n",
    "        shift (integer): the new shift that should be associated with this message.\n",
    "        0 <= shift < 26\n",
    "\n",
    "        Returns: nothing\n",
    "        '''\n",
    "        self.shift = shift\n",
    "        self.encrypting_dict = self.build_shift_dict(shift)\n",
    "        self.message_text_encrypted = super().apply_shift(shift)\n",
    "        \n",
    "        "
   ]
  },
  {
   "cell_type": "code",
   "execution_count": 5,
   "id": "behavioral-password",
   "metadata": {},
   "outputs": [],
   "source": [
    "class CiphertextMessage(Message):\n",
    "    def __init__(self, text):\n",
    "        '''\n",
    "        Initializes a CiphertextMessage object\n",
    "                \n",
    "        text (string): the message's text\n",
    "\n",
    "        a CiphertextMessage object has two attributes:\n",
    "            self.message_text (string, determined by input text)\n",
    "            self.valid_words (list, determined using helper function load_words)\n",
    "        '''\n",
    "        super().__init__(text)\n",
    "        \n",
    "\n",
    "    def decrypt_message(self):\n",
    "        '''\n",
    "        Decrypt self.message_text by trying every possible shift value\n",
    "        and find the \"best\" one. We will define \"best\" as the shift that\n",
    "        creates the maximum number of real words when we use apply_shift(shift)\n",
    "        on the message text. If s is the original shift value used to encrypt\n",
    "        the message, then we would expect 26 - s to be the best shift value \n",
    "        for decrypting it.\n",
    "\n",
    "        Note: if multiple shifts are  equally good such that they all create \n",
    "        the maximum number of you may choose any of those shifts (and their\n",
    "        corresponding decrypted messages) to return\n",
    "\n",
    "        Returns: a tuple of the best shift value used to decrypt the message\n",
    "        and the decrypted message text using that shift value\n",
    "        '''\n",
    "        value_count = []\n",
    "        for i in range(26):\n",
    "            value_i = 0\n",
    "            self.message_text_decrypted = super().apply_shift(i)\n",
    "            self.message_text_decrypted_split = self.message_text_decrypted.split(' ')\n",
    "            \n",
    "            for item in self.message_text_decrypted_split:\n",
    "                if is_word(self.valid_words, item):\n",
    "                    value_i += 1\n",
    "                else:\n",
    "                    continue\n",
    "            value_count.append(value_i)\n",
    "           \n",
    "        self.message_text_decrypted = super().apply_shift(value_count.index(max(value_count)))\n",
    "        return ((value_count.index(max(value_count)), self.message_text_decrypted))\n",
    "        #return (value_count)"
   ]
  },
  {
   "cell_type": "code",
   "execution_count": 31,
   "id": "major-delhi",
   "metadata": {},
   "outputs": [
    {
     "name": "stdout",
     "output_type": "stream",
     "text": [
      "Loading word list from file...\n",
      "   55901 words loaded.\n",
      "Phvvdjh lv Qrqvhqvh zrugv: djh shuihfwlrq glh dqvzhu riilfh rog ehdvw srfnhw fklogkrrg eulfn ghihqvh frsshu vsdgh pdlq kdw\n"
     ]
    }
   ],
   "source": [
    "encod = PlaintextMessage('Message is Nonsense words: age perfection die answer office old beast pocket childhood brick defense copper spade main hat',3)\n",
    "print(encod.apply_shift(3))"
   ]
  },
  {
   "cell_type": "code",
   "execution_count": 70,
   "id": "criminal-solomon",
   "metadata": {},
   "outputs": [
    {
     "data": {
      "text/plain": [
       "1"
      ]
     },
     "execution_count": 70,
     "metadata": {},
     "output_type": "execute_result"
    }
   ],
   "source": [
    "A= [2, 34, 0, 0, 0, 0, 0, 2, 0, 0, 0, 0, 0, 0, 1, 1, 0, 0, 0, 0, 0, 1, 0, 1, 0, 0]\n",
    "A.index(max(A))"
   ]
  },
  {
   "cell_type": "code",
   "execution_count": 6,
   "id": "excellent-lobby",
   "metadata": {},
   "outputs": [
    {
     "name": "stdout",
     "output_type": "stream",
     "text": [
      "Loading word list from file...\n",
      "   55901 words loaded.\n"
     ]
    },
    {
     "data": {
      "text/plain": [
       "(16,\n",
       " 'Jack Florey is a mythical character created on the spur of a moment to help cover an insufficiently planned hack. He has been registered for classes at MIT twice before, but has reportedly never passed a class. It has been the tradition of the residents of East Campus to become Jack Florey for a few nights each year to educate incoming students in the ways, means, and ethics of hacking.')"
      ]
     },
     "execution_count": 6,
     "metadata": {},
     "output_type": "execute_result"
    }
   ],
   "source": [
    "'''Now that you have all the pieces to the puzzle, \n",
    "please use them to decode the file story.txt. \n",
    "The file ps6.py contains a helper function get_story_string() \n",
    "that returns the encrypted version of the story as a string. \n",
    "Create a CiphertextMessage object using the story string and \n",
    "use decrypt_message to return the appropriate shift value and unencrypted story string. \n",
    "\n",
    " Message, PlaintextMessage, and CiphertextMessage classes'''\n",
    "#def decrypt_story():\n",
    "CiphertextMessage = CiphertextMessage(get_story_string())\n",
    "    #return \n",
    "CiphertextMessage.decrypt_message()\n"
   ]
  },
  {
   "cell_type": "code",
   "execution_count": 6,
   "id": "chronic-comment",
   "metadata": {},
   "outputs": [
    {
     "name": "stdout",
     "output_type": "stream",
     "text": [
      "Loading word list from file...\n",
      "   55901 words loaded.\n"
     ]
    }
   ],
   "source": [
    "CiphertextMessage = CiphertextMessage(get_story_string())\n",
    "def decrypt_story():\n",
    "     return CiphertextMessage.decrypt_message()\n",
    "\n",
    "\n"
   ]
  },
  {
   "cell_type": "code",
   "execution_count": 7,
   "id": "affecting-influence",
   "metadata": {},
   "outputs": [
    {
     "data": {
      "text/plain": [
       "(16,\n",
       " 'Jack Florey is a mythical character created on the spur of a moment to help cover an insufficiently planned hack. He has been registered for classes at MIT twice before, but has reportedly never passed a class. It has been the tradition of the residents of East Campus to become Jack Florey for a few nights each year to educate incoming students in the ways, means, and ethics of hacking.')"
      ]
     },
     "execution_count": 7,
     "metadata": {},
     "output_type": "execute_result"
    }
   ],
   "source": [
    "decrypt_story()"
   ]
  },
  {
   "cell_type": "code",
   "execution_count": null,
   "id": "collective-montgomery",
   "metadata": {},
   "outputs": [],
   "source": []
  }
 ],
 "metadata": {
  "kernelspec": {
   "display_name": "Python 3",
   "language": "python",
   "name": "python3"
  },
  "language_info": {
   "codemirror_mode": {
    "name": "ipython",
    "version": 3
   },
   "file_extension": ".py",
   "mimetype": "text/x-python",
   "name": "python",
   "nbconvert_exporter": "python",
   "pygments_lexer": "ipython3",
   "version": "3.8.8"
  }
 },
 "nbformat": 4,
 "nbformat_minor": 5
}
